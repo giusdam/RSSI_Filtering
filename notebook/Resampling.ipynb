{
 "cells": [
  {
   "cell_type": "markdown",
   "id": "2dd25833",
   "metadata": {},
   "source": [
    "# Resampling"
   ]
  },
  {
   "cell_type": "markdown",
   "id": "9071d62d",
   "metadata": {},
   "source": [
    "The amount of noise in the data requires the use of a smoothing process to reduce interference. A method to reduce high-frequency noise is resampling. Resampling methods refer to the process\n",
    "of changing the frequency of some data to produce a data set with a different cadence. The data set analyzed has several RSSI values for each second. However, this granularity is not necessary for localization purposes since people cannot completely change position in such a short time. Therefore, we can reduce some of the interference by lowering the frequency of each measurement."
   ]
  },
  {
   "cell_type": "markdown",
   "id": "219d240d",
   "metadata": {},
   "source": [
    "## Downsampling"
   ]
  },
  {
   "cell_type": "markdown",
   "id": "047bf188",
   "metadata": {},
   "source": [
    "The process of decreasing the frequency of a time series is called downsampling. Two main aspects are fundamental in this process: the frequency to which resample the data and the summary\n",
    "statistics to group the data, i.e., an aggregate function."
   ]
  },
  {
   "cell_type": "markdown",
   "id": "d0b4272b",
   "metadata": {},
   "source": [
    "First of all let's read the cleaned data obtained in the data preparation phase."
   ]
  },
  {
   "cell_type": "code",
   "execution_count": null,
   "id": "75828cde",
   "metadata": {},
   "outputs": [],
   "source": [
    "import pandas as pd \n",
    "import numpy as np \n",
    "import matplotlib.pyplot as plt \n",
    "df = pd.read_csv('../dataset/clean_data.csv')"
   ]
  },
  {
   "cell_type": "markdown",
   "id": "e2ede6df",
   "metadata": {},
   "source": [
    "Then we need the set the time index that will be used by the resample function."
   ]
  },
  {
   "cell_type": "code",
   "execution_count": null,
   "id": "5a7d3282",
   "metadata": {},
   "outputs": [],
   "source": [
    "df['Time'] = df['Time'].apply(pd.Timestamp)"
   ]
  },
  {
   "cell_type": "markdown",
   "id": "18b03a05",
   "metadata": {},
   "source": [
    "### Frequency\n",
    "The first decision is the resolution of the resample, i.e., the new frequency of the measurements.\n",
    "Since the data set contains RSSI values from a smartphone carried by someone, an interval of few seconds might be suitable. We will try with a one second frequency and a two seconds frequency"
   ]
  },
  {
   "cell_type": "markdown",
   "id": "d90ff087",
   "metadata": {},
   "source": [
    "### Aggregation function\n",
    "The second decision regards the aggregation function. There are different options like sum, mean, median, but in the context of indoor localization mean and median seem the most appropriate."
   ]
  },
  {
   "cell_type": "markdown",
   "id": "87f9320f",
   "metadata": {},
   "source": [
    "#### One second frequency \n",
    "Line 1 shows the resampling method to produce a new time series with a one-second frequency. The RSSI value of each is computed taking the means over each second interval."
   ]
  },
  {
   "cell_type": "code",
   "execution_count": null,
   "id": "4ad0cdd2",
   "metadata": {
    "scrolled": false
   },
   "outputs": [],
   "source": [
    "mean_df_one = df.resample('1S', on='Time').mean()\n",
    "\n",
    "mean_df_one"
   ]
  },
  {
   "cell_type": "markdown",
   "id": "fdf51d11",
   "metadata": {},
   "source": [
    "It is interesting to notice that the number of rows is reduced from 13.584 to 1201, showing that the initial data set contains an average of 11 RSSI values for each second."
   ]
  },
  {
   "cell_type": "code",
   "execution_count": null,
   "id": "eef00b6f",
   "metadata": {},
   "outputs": [],
   "source": [
    "mean_df_one.plot(title='Resample 1 second using mean', figsize=(20, 12))"
   ]
  },
  {
   "cell_type": "markdown",
   "id": "860aab72",
   "metadata": {},
   "source": [
    "Line 1 shows the use of the resampling method to produce a new time series with a one-second frequency. The RSSI value of each interval is computed taking the medians over each second window."
   ]
  },
  {
   "cell_type": "code",
   "execution_count": null,
   "id": "28d5d184",
   "metadata": {},
   "outputs": [],
   "source": [
    "median_df_one = df.resample('1S', on='Time').median()\n",
    "median_df_one.plot(title='Resample 1 second using median', figsize=(20, 12))"
   ]
  },
  {
   "cell_type": "markdown",
   "id": "9bea355b",
   "metadata": {},
   "source": [
    "We compare the two downsampled data obtained using a line chart."
   ]
  },
  {
   "cell_type": "code",
   "execution_count": null,
   "id": "86bac3c5",
   "metadata": {},
   "outputs": [],
   "source": [
    "plt.figure(figsize=(20, 12))\n",
    "\n",
    "plt.plot(mean_df_one['rssi'], label='Mean')\n",
    "plt.plot(median_df_one['rssi'], linestyle='dotted',  label='Median')\n",
    "\n",
    "plt.legend()\n",
    "plt.xlabel('Time')\n",
    "plt.ylabel('RSSI')"
   ]
  },
  {
   "cell_type": "markdown",
   "id": "944f9b01",
   "metadata": {},
   "source": [
    "The comparison shows that using the mean as the aggregate function is more effective in reducing the interference. Specifically, the downsample based on the median still contains high-frequency noise."
   ]
  },
  {
   "cell_type": "markdown",
   "id": "bd112bcf",
   "metadata": {},
   "source": [
    "#### Two seconds frequency\n",
    "Line 1 shows the resampling method to produce a new time series with a two-second frequency. The RSSI value of each is computed taking the means over an interval of two seconds."
   ]
  },
  {
   "cell_type": "code",
   "execution_count": null,
   "id": "988ef917",
   "metadata": {
    "scrolled": false
   },
   "outputs": [],
   "source": [
    "mean_df_two = df.resample('2S', on='Time').mean()\n",
    "\n",
    "mean_df_two.plot(title='Resample 2 seconds using mean', figsize=(20, 12))"
   ]
  },
  {
   "cell_type": "markdown",
   "id": "7374f576",
   "metadata": {},
   "source": [
    "Line 1 shows the use of the resampling method to produce a new time series with a two-second frequency. The RSSI value of each interval is computed taking the medians over a window of two seconds."
   ]
  },
  {
   "cell_type": "code",
   "execution_count": null,
   "id": "90fb1673",
   "metadata": {},
   "outputs": [],
   "source": [
    "median_df_two = df.resample('2S', on='Time').median()\n",
    "median_df_two.plot(title='Resample 2 seconds using median', figsize=(20, 12))"
   ]
  },
  {
   "cell_type": "markdown",
   "id": "49857326",
   "metadata": {},
   "source": [
    "We compare the two downsampled data obtained using a line chart."
   ]
  },
  {
   "cell_type": "code",
   "execution_count": null,
   "id": "a0b638d9",
   "metadata": {},
   "outputs": [],
   "source": [
    "plt.figure(figsize=(20, 12))\n",
    "\n",
    "plt.plot(mean_df_two['rssi'], label='Mean')\n",
    "plt.plot(median_df_two['rssi'], linestyle='dotted', label='Median')\n",
    "\n",
    "plt.legend()\n",
    "plt.xlabel('Time')\n",
    "plt.ylabel('RSSI')"
   ]
  },
  {
   "cell_type": "markdown",
   "id": "7e425cdd",
   "metadata": {},
   "source": [
    "As noticed before, the downsample based on the mean function  provides a signal with less interference and a more smoothed line than the median-based downsample."
   ]
  },
  {
   "cell_type": "markdown",
   "id": "72529d7f",
   "metadata": {},
   "source": [
    "### Results"
   ]
  },
  {
   "cell_type": "markdown",
   "id": "0fe2377c",
   "metadata": {},
   "source": [
    "Indoor localization applications usually require a precision that allows us to use both the onesecond and the two seconds frequency. However, for clarity purposes, we choose to use the two seconds frequency since it produces more readable graphs thanks to a data set with fewer rows.\n",
    "Moreover, based on the results obtained, we decide to use the downsample applying the mean as the aggregate function."
   ]
  },
  {
   "cell_type": "code",
   "execution_count": null,
   "id": "0a67cb1c",
   "metadata": {},
   "outputs": [],
   "source": [
    "mean_df_two"
   ]
  },
  {
   "cell_type": "markdown",
   "id": "b90ce0f9",
   "metadata": {},
   "source": [
    "Saving the downsampled dataframe into a *.csv* file."
   ]
  },
  {
   "cell_type": "code",
   "execution_count": null,
   "id": "76cf4080",
   "metadata": {},
   "outputs": [],
   "source": [
    "mean_df_two.to_csv('../dataset/resample_mean.csv', index=True)"
   ]
  }
 ],
 "metadata": {
  "kernelspec": {
   "display_name": "Python 3 (ipykernel)",
   "language": "python",
   "name": "python3"
  },
  "language_info": {
   "codemirror_mode": {
    "name": "ipython",
    "version": 3
   },
   "file_extension": ".py",
   "mimetype": "text/x-python",
   "name": "python",
   "nbconvert_exporter": "python",
   "pygments_lexer": "ipython3",
   "version": "3.8.10"
  }
 },
 "nbformat": 4,
 "nbformat_minor": 5
}

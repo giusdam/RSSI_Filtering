{
 "cells": [
  {
   "cell_type": "markdown",
   "id": "dcd766f3",
   "metadata": {},
   "source": [
    "# Preliminary Phase"
   ]
  },
  {
   "cell_type": "markdown",
   "id": "ac341a35",
   "metadata": {},
   "source": [
    "In this phase, we analyze the shape of the data set to understand if some data preparation processis needed."
   ]
  },
  {
   "cell_type": "markdown",
   "id": "b45e188e",
   "metadata": {},
   "source": [
    "Importing required libraries and reading the data from file."
   ]
  },
  {
   "cell_type": "code",
   "execution_count": null,
   "id": "b58ec102",
   "metadata": {},
   "outputs": [],
   "source": [
    "import pandas as pd \n",
    "import numpy as np \n",
    "import matplotlib.pyplot as plt \n",
    "df = pd.read_csv('../dataset/raw_data.csv')"
   ]
  },
  {
   "cell_type": "markdown",
   "id": "d622a0ad",
   "metadata": {},
   "source": [
    "Understanding the format of data."
   ]
  },
  {
   "cell_type": "code",
   "execution_count": null,
   "id": "6c67e9bf",
   "metadata": {},
   "outputs": [],
   "source": [
    "df"
   ]
  },
  {
   "cell_type": "code",
   "execution_count": null,
   "id": "b32b3bcc",
   "metadata": {},
   "outputs": [],
   "source": [
    "df.isna().any()"
   ]
  },
  {
   "cell_type": "markdown",
   "id": "bd1da488",
   "metadata": {},
   "source": [
    "The data set has 5 column, 13.584 rows and does not contains null values."
   ]
  },
  {
   "cell_type": "markdown",
   "id": "282f2688",
   "metadata": {},
   "source": [
    "## Data Preparation"
   ]
  },
  {
   "cell_type": "markdown",
   "id": "c0872078",
   "metadata": {},
   "source": [
    "### Timestamp"
   ]
  },
  {
   "cell_type": "markdown",
   "id": "82f3a9e9",
   "metadata": {},
   "source": [
    "The timestamp needs to be transformed from milliseconds form to a standard format that can be used as the index. Specifically, we apply the structure based on hours, minutes, seconds, and milliseconds (hh:mm:ss.ss)."
   ]
  },
  {
   "cell_type": "code",
   "execution_count": null,
   "id": "a0e6c3be",
   "metadata": {},
   "outputs": [],
   "source": [
    "df['Time'] = pd.to_datetime(df['timestamp'], unit='ms').dt.strftime('%H:%M:%S.%f')"
   ]
  },
  {
   "cell_type": "markdown",
   "id": "32cedb21",
   "metadata": {},
   "source": [
    "### Data cleaning"
   ]
  },
  {
   "cell_type": "markdown",
   "id": "0d0e3a04",
   "metadata": {},
   "source": [
    "We remove the columns that are not required for our scope. Specifically, the name of the beacon, the location status, and the timestamp in milliseconds"
   ]
  },
  {
   "cell_type": "code",
   "execution_count": null,
   "id": "34db023a",
   "metadata": {},
   "outputs": [],
   "source": [
    "df = df.drop(columns=['name', 'locationStatus', 'timestamp'])\n",
    "df"
   ]
  },
  {
   "cell_type": "code",
   "execution_count": null,
   "id": "b565a4b4",
   "metadata": {},
   "outputs": [],
   "source": [
    "df.describe()"
   ]
  },
  {
   "cell_type": "markdown",
   "id": "5d7de698",
   "metadata": {},
   "source": [
    "Exploring the data set, we notice that the two columns referring to the RSSI registered from each smartphone seem to have the same values. We perform so further investigation to check that."
   ]
  },
  {
   "cell_type": "code",
   "execution_count": null,
   "id": "c1105951",
   "metadata": {},
   "outputs": [],
   "source": [
    "df['Diff'] = df['rssiOne'] - df['rssiTwo']\n",
    "df.loc[(df['Diff'] !=0)]"
   ]
  },
  {
   "cell_type": "markdown",
   "id": "d1d6fd4a",
   "metadata": {},
   "source": [
    "The investigation confirms that there are no differences between the values registered by the two smartphones. Therefore, we can drop one column and reshape the data set to enhance readability\n",
    "and usability."
   ]
  },
  {
   "cell_type": "code",
   "execution_count": null,
   "id": "cd7dfa20",
   "metadata": {},
   "outputs": [],
   "source": [
    "df = df.drop(columns=['rssiTwo', 'Diff'])\n",
    "df.rename(columns={'rssiOne':'rssi'}, inplace=True)\n",
    "df"
   ]
  },
  {
   "cell_type": "markdown",
   "id": "b71e75ae",
   "metadata": {},
   "source": [
    "## Plotting"
   ]
  },
  {
   "cell_type": "markdown",
   "id": "62d594ce",
   "metadata": {},
   "source": [
    "We create some basic plots to further understand the data set."
   ]
  },
  {
   "cell_type": "code",
   "execution_count": null,
   "id": "61db345d",
   "metadata": {},
   "outputs": [],
   "source": [
    "histCount = df.hist(column='rssi', figsize=(20, 12))\n",
    "for ax in histCount.flatten():\n",
    "    ax.set_xlabel('RSSI')\n",
    "    ax.set_ylabel('Count')"
   ]
  },
  {
   "cell_type": "code",
   "execution_count": null,
   "id": "9fcc6a19",
   "metadata": {},
   "outputs": [],
   "source": [
    "df.describe()"
   ]
  },
  {
   "cell_type": "markdown",
   "id": "b9312577",
   "metadata": {},
   "source": [
    "The table and the figure show that most of the signals received are on the lower end of the spectrum, i.e., the beacon gets the majority of signals with low power intensity. The max signal strength observed is −55 dBm (decibel milliwatt), which is considered a high enough value for most real work applications. Moreover, the third percentile has a value of −78 dBm reporting an acceptable coverage."
   ]
  },
  {
   "cell_type": "markdown",
   "id": "b88e1a85",
   "metadata": {},
   "source": [
    "We turn the time column into a timestamp manageble from the library in use to improve readibility."
   ]
  },
  {
   "cell_type": "code",
   "execution_count": null,
   "id": "64a91b69",
   "metadata": {},
   "outputs": [],
   "source": [
    "df['Time'] = df['Time'].apply(pd.Timestamp)\n",
    "df.plot(x='Time',xlabel='Time', y='rssi', ylabel='RSSI', figsize=(20, 12))"
   ]
  },
  {
   "cell_type": "markdown",
   "id": "19a5c5c6",
   "metadata": {},
   "source": [
    "The plot shows a high fluctuation in the signal revealing the presence of a lot of noise, as expected in an indoor environment. Therefore we need to reduce the interference using techniques\n",
    "to smooth the signal. Different possible methods can be used, and the optimal solution highly depends on the specific context and the degree of noise present."
   ]
  },
  {
   "cell_type": "markdown",
   "id": "fe8a51f7",
   "metadata": {},
   "source": [
    "Saving the cleaned dataframe into a *.csv* file."
   ]
  },
  {
   "cell_type": "code",
   "execution_count": null,
   "id": "47f7374a",
   "metadata": {},
   "outputs": [],
   "source": [
    "df.to_csv('../dataset/clean_data.csv', index=False)"
   ]
  }
 ],
 "metadata": {
  "kernelspec": {
   "display_name": "Python 3 (ipykernel)",
   "language": "python",
   "name": "python3"
  },
  "language_info": {
   "codemirror_mode": {
    "name": "ipython",
    "version": 3
   },
   "file_extension": ".py",
   "mimetype": "text/x-python",
   "name": "python",
   "nbconvert_exporter": "python",
   "pygments_lexer": "ipython3",
   "version": "3.8.10"
  }
 },
 "nbformat": 4,
 "nbformat_minor": 5
}
